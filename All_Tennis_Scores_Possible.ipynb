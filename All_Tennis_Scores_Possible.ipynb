{
 "cells": [
  {
   "cell_type": "code",
   "execution_count": null,
   "metadata": {},
   "outputs": [],
   "source": [
    "class Node:\n",
    "    def __init__(self, score, depth, winner_won_sets_nb, sets_possibilities_normal_match, sets_possibilities_grand_slam, parent_node):\n",
    "        self.depth = depth\n",
    "        self.score = score\n",
    "        self.winner_won_sets_nb = winner_won_sets_nb\n",
    "        if depth == 5:\n",
    "            self.nb_children = 0\n",
    "        else:\n",
    "            if depth == 4:\n",
    "                self.nb_children = len(sets_possibilities_grand_slam)\n",
    "            else:\n",
    "                self.nb_children = len(sets_possibilities_normal_match)\n",
    "        self.children_nodes = []\n",
    "        self.parent_node = parent_node\n",
    "        return\n",
    "    \n",
    "    def Is_divisible(self):\n",
    "        divisible = True\n",
    "        if self.depth == 5 or self.winner_won_sets_nb >= 3:\n",
    "            divisible = False\n",
    "        return divisible\n",
    "    \n",
    "    def Is_leaf(self):\n",
    "        is_leaf = False\n",
    "        if self.children_nodes == []:\n",
    "            is_leaf = True\n",
    "        return is_leaf\n",
    "    \n",
    "    def To_String(self):\n",
    "        score = \"Score: \" + self.score\n",
    "        depth = \"\\nDepth: \" + str(self.depth)\n",
    "        winner_won_sets_nb = \"\\nWinner won sets nb: \" + str(self.winner_won_sets_nb)\n",
    "        nb_children = \"\\nNb children: \" + str(self.nb_children)\n",
    "        print(score + depth + winner_won_sets_nb + nb_children)\n",
    "        for i in range(self.nb_children):\n",
    "            try:\n",
    "                print(\"Child \" + str(i+1) + \": \" + str(self.children_nodes[i].depth))\n",
    "            except:\n",
    "                continue\n",
    "    \n",
    "    def To_String_Tree_View(self):\n",
    "        offset = \"          \" * self.depth\n",
    "        string = offset + \"Score: \" + str(self.score) + \"\\n\" + offset + \"Depth: \" + str(self.depth) + \"\\n\" + offset + \"Winner won sets nb: \" + str(self.winner_won_sets_nb) + \"\\n\" + offset + \"Nb children: \" + str(self.nb_children) + \"\\n\"\n",
    "        return string   \n",
    "    \n",
    "def make_tree(node, sets_possibilities_normal_match, sets_possibilities_grand_slam):\n",
    "    divisible = node.Is_divisible()\n",
    "    if divisible == True:\n",
    "        special_case = False\n",
    "        if node.depth == 2 and node.winner_won_sets_nb == 0:\n",
    "            sets_possibilities_normal_match = sets_possibilities_normal_match[0:int(len(sets_possibilities_normal_match)/2)]\n",
    "            node.nb_children = int(node.nb_children/2)\n",
    "            special_case = True\n",
    "        if node.depth == 3 and node.winner_won_sets_nb == 1 and node.parent_node.winner_won_sets_nb == 0:\n",
    "            special_case = True\n",
    "        else:\n",
    "            if node.depth == 3 and node.winner_won_sets_nb == 1:\n",
    "                sets_possibilities_normal_match = sets_possibilities_normal_match[0:int(len(sets_possibilities_normal_match)/2)]\n",
    "                node.nb_children = int(node.nb_children/2)\n",
    "                special_case = True\n",
    "        if node.depth == 4 and node.winner_won_sets_nb == 2:\n",
    "            node.nb_children = len(sets_possibilities_grand_slam)\n",
    "        for i in range(node.nb_children):\n",
    "            if node.depth == 4:\n",
    "                node.children_nodes.append(Node(sets_possibilities_grand_slam[i], node.depth+1,\n",
    "                                                node.winner_won_sets_nb+1, sets_possibilities_normal_match,\n",
    "                                                sets_possibilities_grand_slam, node))\n",
    "            else:\n",
    "                if special_case == True:\n",
    "                    node.children_nodes.append(Node(sets_possibilities_normal_match[i], node.depth+1,\n",
    "                                                    node.winner_won_sets_nb+1, sets_possibilities_normal_match,\n",
    "                                                    sets_possibilities_normal_match, node))\n",
    "                else:\n",
    "                    if i < node.nb_children/2:\n",
    "                        node.children_nodes.append(Node(sets_possibilities_normal_match[i], node.depth+1,\n",
    "                                                        node.winner_won_sets_nb+1, sets_possibilities_normal_match,\n",
    "                                                        sets_possibilities_normal_match, node))\n",
    "                    else:\n",
    "                        node.children_nodes.append(Node(sets_possibilities_normal_match[i], node.depth+1,\n",
    "                                                        node.winner_won_sets_nb, sets_possibilities_normal_match,\n",
    "                                                        sets_possibilities_grand_slam, node))\n",
    "            make_tree(node.children_nodes[i], sets_possibilities_normal_match, sets_possibilities_grand_slam)\n",
    "            \n",
    "def Tree_to_file(node, file):\n",
    "    file.write(node.To_String_Tree_View())\n",
    "    if node.Is_leaf() == False:\n",
    "        for i in range(node.nb_children):\n",
    "            Tree_to_file(node.children_nodes[i], file)\n",
    "            \n",
    "def Write_file(file_name, tree):\n",
    "    file = open(file_name,\"w\")\n",
    "    Tree_to_file(root, file)\n",
    "    file.close()"
   ]
  },
  {
   "cell_type": "code",
   "execution_count": null,
   "metadata": {},
   "outputs": [],
   "source": [
    "file_name = \"Tennis_Score_Tree.txt\"\n",
    "sets_possibilities_normal_match = [\"6/0\", \"6/1\", \"6/2\", \"6/3\", \"6/4\", \"7/5\", \"7/6\", \"0/6\", \"1/6\", \"2/6\", \"3/6\", \"4/6\", \"5/7\", \"6/7\"]\n",
    "sets_possibilities_grand_slam = [\"6/0\", \"6/1\", \"6/2\", \"6/3\", \"6/4\", \"7/5\", \"8/6\", \"9/7\", \"10/8\", \"11/9\", \"12/10\", \"13/11\", \"14/12\", \"15/13\", \"16/14\", \"17/15\", \"18/16\", \"19/17\", \"20/18\"]\n",
    "root = Node(\"0\", 0, 0, sets_possibilities_normal_match, sets_possibilities_grand_slam, None)\n",
    "make_tree(root, sets_possibilities_normal_match, sets_possibilities_grand_slam)\n",
    "Write_file(file_name, root)"
   ]
  },
  {
   "cell_type": "markdown",
   "metadata": {},
   "source": [
    "## Count the possibilities"
   ]
  },
  {
   "cell_type": "code",
   "execution_count": null,
   "metadata": {},
   "outputs": [],
   "source": [
    "def Get_matches_score_combinations(root, winner_won_sets_nb, max_depth, array):\n",
    "    if root.depth < max_depth and root.winner_won_sets_nb != winner_won_sets_nb:\n",
    "        for i in range(len(root.children_nodes)):\n",
    "            Get_matches_score_combinations(root.children_nodes[i], winner_won_sets_nb, max_depth, array)\n",
    "    else:\n",
    "        if root.depth <= max_depth and root.winner_won_sets_nb == winner_won_sets_nb:\n",
    "            string = \"\"\n",
    "            while(root.parent_node != None):\n",
    "                string += root.score + \"-\"\n",
    "                root = root.parent_node\n",
    "            string = string[:-1]\n",
    "            tab = string.split('-')[::-1]\n",
    "            string = \"\"\n",
    "            for score in tab:\n",
    "                string += score + '-'\n",
    "            array.append(string[:-1])"
   ]
  },
  {
   "cell_type": "markdown",
   "metadata": {},
   "source": [
    "Normal matches"
   ]
  },
  {
   "cell_type": "code",
   "execution_count": null,
   "metadata": {
    "scrolled": true
   },
   "outputs": [],
   "source": [
    "array = []\n",
    "Get_matches_score_combinations(root, 2, 3, array)"
   ]
  },
  {
   "cell_type": "markdown",
   "metadata": {},
   "source": [
    "Grand Slam Matches"
   ]
  },
  {
   "cell_type": "code",
   "execution_count": null,
   "metadata": {},
   "outputs": [],
   "source": [
    "array2 = []\n",
    "Get_matches_score_combinations(root, 3, 5, array2)"
   ]
  },
  {
   "cell_type": "markdown",
   "metadata": {},
   "source": [
    "Unify the 2 arrays and make a file"
   ]
  },
  {
   "cell_type": "code",
   "execution_count": null,
   "metadata": {},
   "outputs": [],
   "source": [
    "final_array = array + array2\n",
    "final_file_name = \"Tennis_Scores_Combinations.txt\"\n",
    "file = open(final_file_name, 'w')\n",
    "for score in final_array:\n",
    "    file.write(score + \"\\n\")\n",
    "file.close()"
   ]
  }
 ],
 "metadata": {
  "kernelspec": {
   "display_name": "Python 3",
   "language": "python",
   "name": "python3"
  },
  "language_info": {
   "codemirror_mode": {
    "name": "ipython",
    "version": 3
   },
   "file_extension": ".py",
   "mimetype": "text/x-python",
   "name": "python",
   "nbconvert_exporter": "python",
   "pygments_lexer": "ipython3",
   "version": "3.7.3"
  }
 },
 "nbformat": 4,
 "nbformat_minor": 2
}
